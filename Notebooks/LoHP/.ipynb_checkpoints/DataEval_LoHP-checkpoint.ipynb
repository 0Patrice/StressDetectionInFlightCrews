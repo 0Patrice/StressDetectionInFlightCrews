{
 "cells": [
  {
   "cell_type": "code",
   "execution_count": 1,
   "id": "30d3d311-66b5-46a0-865d-9c946a6920fb",
   "metadata": {},
   "outputs": [],
   "source": [
    "from __future__ import print_function\n",
    "import argparse\n",
    "import shutil\n",
    "\n",
    "import matplotlib.pyplot as plt\n",
    "%config InlineBackend.figure_formats = ['svg']\n",
    "\n",
    "import numpy as np\n",
    "from numpy import mean, sqrt, square, arange\n",
    "import pandas as pd\n",
    "\n",
    "import csv\n",
    "\n",
    "import os\n",
    "from os.path import exists\n",
    "import datetime\n",
    "import time\n",
    "\n",
    "import shutil"
   ]
  },
  {
   "cell_type": "code",
   "execution_count": 2,
   "id": "26f0f48a-f4a8-4c29-a5c7-fc00452698fb",
   "metadata": {},
   "outputs": [],
   "source": [
    "columns = ['I', 'II', 'III', 'aVR', 'aVL', 'aVF', 'C1', 'Resp', 'UTC', 'DA', 'Conf']\n",
    "columns_rest = ['I', 'II', 'III', 'aVR', 'aVL', 'aVF', 'C1', 'Resp']\n",
    "fs = 300\n"
   ]
  },
  {
   "cell_type": "code",
   "execution_count": 3,
   "id": "58416b33-4a83-417d-9d14-b343eabbefad",
   "metadata": {},
   "outputs": [],
   "source": [
    "sc1_lens = []\n",
    "sc2_lens = []\n",
    "ruhe_lens = []\n"
   ]
  },
  {
   "cell_type": "code",
   "execution_count": 4,
   "id": "055c10a5-c434-458d-b3f7-22e1c775eb3b",
   "metadata": {},
   "outputs": [
    {
     "name": "stdout",
     "output_type": "stream",
     "text": [
      "VP1_RuheEKG.csv\n",
      "274065\n",
      "VP2_RuheEKG.csv\n",
      "244500\n",
      "VP3_RuheEKG.csv\n",
      "211563\n",
      "VP3_Scenario1_MRF.csv\n",
      "585329\n",
      "VP4_RuheEKG.csv\n",
      "232680\n",
      "VP4_Scenario1_MRF.csv\n",
      "589520\n",
      "VP4_Scenario2_MRF.csv\n",
      "1332998\n",
      "VP5_RuheEKG.csv\n",
      "234849\n",
      "VP5_Scenario1_MRF.csv\n",
      "623060\n",
      "VP6_RuheEKG.csv\n",
      "232911\n",
      "VP6_Scenario1_MRF.csv\n",
      "622187\n",
      "VP7_RuheEKG.csv\n",
      "267591\n",
      "VP7_Scenario1_MRF.csv\n",
      "609282\n",
      "VP7_Scenario2_MRF.csv\n",
      "1085593\n",
      "VP8_RuheEKG.csv\n",
      "265293\n",
      "VP8_Scenario1_MRF.csv\n",
      "594257\n",
      "VP8_Scenario2_MRF.csv\n",
      "884256\n",
      "VP9_RuheEKG.csv\n",
      "248880\n",
      "VP9_Scenario1_MRF.csv\n",
      "599032\n",
      "VP9_Scenario2_MRF.csv\n",
      "1170181\n",
      "VP10_RuheEKG.csv\n",
      "280200\n",
      "VP10_Scenario1_MRF.csv\n",
      "601429\n",
      "VP10_Scenario2_MRF.csv\n",
      "1167633\n",
      "VP13_RuheEKG.csv\n",
      "300840\n",
      "VP13_Scenario1_MRF.csv\n",
      "530425\n",
      "VP13_Scenario2_MRF.csv\n",
      "1251895\n",
      "VP14_RuheEKG.csv\n",
      "301044\n",
      "VP14_Scenario1_MRF.csv\n",
      "583609\n",
      "VP14_Scenario2_MRF.csv\n",
      "1270852\n",
      "VP15_RuheEKG.csv\n",
      "271668\n",
      "VP15_Scenario1_MRF.csv\n",
      "564151\n",
      "VP15_Scenario2_MRF.csv\n",
      "1217353\n",
      "VP16_RuheEKG.csv\n",
      "304614\n",
      "VP16_Scenario1_MRF.csv\n",
      "568567\n",
      "VP16_Scenario2_MRF.csv\n",
      "1215375\n",
      "VP17_RuheEKG.csv\n",
      "66546\n",
      "VP17_Scenario1_MRF.csv\n",
      "665854\n",
      "VP17_Scenario2_MRF.csv\n",
      "1212239\n",
      "VP18_RuheEKG.csv\n",
      "74112\n",
      "VP18_Scenario1_MRF.csv\n",
      "682050\n",
      "VP18_Scenario2_MRF.csv\n",
      "1208351\n",
      "VP19_RuheEKG.csv\n",
      "315831\n",
      "VP19_Scenario1_MRF.csv\n",
      "591970\n",
      "VP19_Scenario2_MRF.csv\n",
      "1758042\n",
      "VP20_RuheEKG.csv\n",
      "321252\n",
      "VP20_Scenario1_MRF.csv\n",
      "606626\n",
      "VP20_Scenario2_MRF.csv\n",
      "1757734\n"
     ]
    }
   ],
   "source": [
    "# Find Runtime\n",
    "folder_path = '../../Data/LoHP/MultiRecordFiles/'\n",
    "\n",
    "for root, subdirs, files in os.walk(folder_path, topdown=True):\n",
    "    for file in files:\n",
    "        \n",
    "        if file.endswith('Scenario1_MRF.csv'):\n",
    "            print(file)\n",
    "            file_path = os.path.join(root, file)\n",
    "            df_t = pd.read_csv(file_path, delimiter=',', usecols=columns)\n",
    "            print(len(df_t))\n",
    "            sc1_lens.extend([len(df_t)])\n",
    "\n",
    "        elif file.endswith('Scenario2_MRF.csv'):\n",
    "            print(file)\n",
    "            file_path = os.path.join(root, file)\n",
    "            df_t = pd.read_csv(file_path, delimiter=',', usecols=columns)\n",
    "            print(len(df_t))\n",
    "            sc2_lens.extend([len(df_t)])\n",
    "            \n",
    "        elif file.endswith('RuheEKG.csv'):\n",
    "            print(file)\n",
    "            file_path = os.path.join(root, file)\n",
    "            df_t = pd.read_csv(file_path, delimiter=',', usecols=columns_rest)\n",
    "            print(len(df_t))\n",
    "            ruhe_lens.extend([len(df_t)])\n",
    "\n",
    "        else:\n",
    "            print(file)"
   ]
  },
  {
   "cell_type": "code",
   "execution_count": null,
   "id": "274e86b9-df4b-4e46-a307-e47234028975",
   "metadata": {},
   "outputs": [],
   "source": []
  },
  {
   "cell_type": "code",
   "execution_count": 5,
   "id": "1da0f395-6bd3-4782-9de1-99f3a1960a42",
   "metadata": {},
   "outputs": [
    {
     "data": {
      "text/plain": [
       "1699.9049444444445"
      ]
     },
     "execution_count": 5,
     "metadata": {},
     "output_type": "execute_result"
    }
   ],
   "source": [
    "# Total amount of data in minutes \n",
    "(np.sum(sc1_lens)+np.sum(sc2_lens)+np.sum(ruhe_lens))/(fs*60)"
   ]
  },
  {
   "cell_type": "code",
   "execution_count": 6,
   "id": "6acf8075-58e6-4ddc-ba1f-308f02bd029d",
   "metadata": {},
   "outputs": [
    {
     "data": {
      "text/plain": [
       "39.2583457977208"
      ]
     },
     "execution_count": 6,
     "metadata": {},
     "output_type": "execute_result"
    }
   ],
   "source": [
    "(np.mean(sc1_lens)+np.mean(sc2_lens)+np.mean(ruhe_lens))/(fs*60*3)"
   ]
  },
  {
   "cell_type": "code",
   "execution_count": 7,
   "id": "c75dfce2-0643-441b-ae45-f9634fe3c6b9",
   "metadata": {},
   "outputs": [
    {
     "data": {
      "text/plain": [
       "1452.7694444444444"
      ]
     },
     "execution_count": 7,
     "metadata": {},
     "output_type": "execute_result"
    }
   ],
   "source": [
    "(np.sum(sc1_lens)+np.sum(sc2_lens))/(fs*60)"
   ]
  },
  {
   "cell_type": "code",
   "execution_count": 8,
   "id": "a2ba4734-8036-4136-8984-6a4edd0f6dbb",
   "metadata": {},
   "outputs": [
    {
     "data": {
      "text/plain": [
       "534.2971111111111"
      ]
     },
     "execution_count": 8,
     "metadata": {},
     "output_type": "execute_result"
    }
   ],
   "source": [
    "(np.sum(sc1_lens))/(fs*60)"
   ]
  },
  {
   "cell_type": "code",
   "execution_count": 9,
   "id": "d07ac8a3-ded1-4f27-8236-4f1b81098b5c",
   "metadata": {},
   "outputs": [
    {
     "data": {
      "text/plain": [
       "918.4723333333334"
      ]
     },
     "execution_count": 9,
     "metadata": {},
     "output_type": "execute_result"
    }
   ],
   "source": [
    "(np.sum(sc2_lens))/(fs*60)"
   ]
  },
  {
   "cell_type": "code",
   "execution_count": 10,
   "id": "377aa18a-ba79-4171-8fe2-50d8a81d52f7",
   "metadata": {},
   "outputs": [
    {
     "data": {
      "text/plain": [
       "33.393569444444445"
      ]
     },
     "execution_count": 10,
     "metadata": {},
     "output_type": "execute_result"
    }
   ],
   "source": [
    "np.mean(sc1_lens)/(fs*60)"
   ]
  },
  {
   "cell_type": "code",
   "execution_count": 11,
   "id": "109af059-bb07-49fe-be1f-808760b55897",
   "metadata": {},
   "outputs": [
    {
     "data": {
      "text/plain": [
       "70.65171794871794"
      ]
     },
     "execution_count": 11,
     "metadata": {},
     "output_type": "execute_result"
    }
   ],
   "source": [
    "np.mean(sc2_lens)/(fs*60)"
   ]
  },
  {
   "cell_type": "code",
   "execution_count": 12,
   "id": "325214c3-db13-44b6-84a8-126522d3868f",
   "metadata": {},
   "outputs": [
    {
     "data": {
      "text/plain": [
       "13.72975"
      ]
     },
     "execution_count": 12,
     "metadata": {},
     "output_type": "execute_result"
    }
   ],
   "source": [
    "np.mean(ruhe_lens)/(fs*60)"
   ]
  },
  {
   "cell_type": "code",
   "execution_count": 16,
   "id": "a108d0f0-2fef-4eac-9c9b-b39d29b242b2",
   "metadata": {},
   "outputs": [
    {
     "data": {
      "text/plain": [
       "97.669"
      ]
     },
     "execution_count": 16,
     "metadata": {},
     "output_type": "execute_result"
    }
   ],
   "source": [
    "np.max(sc2_lens)/(fs*60)"
   ]
  },
  {
   "cell_type": "code",
   "execution_count": 17,
   "id": "ed2d1122-63d0-4116-84e9-8f2d139350ce",
   "metadata": {},
   "outputs": [
    {
     "data": {
      "text/plain": [
       "49.12533333333333"
      ]
     },
     "execution_count": 17,
     "metadata": {},
     "output_type": "execute_result"
    }
   ],
   "source": [
    "np.min(sc2_lens)/(fs*60)"
   ]
  },
  {
   "cell_type": "code",
   "execution_count": 18,
   "id": "c3146d62-6cd7-4b43-8c3a-dbe85fc8bb55",
   "metadata": {},
   "outputs": [
    {
     "data": {
      "text/plain": [
       "17.847333333333335"
      ]
     },
     "execution_count": 18,
     "metadata": {},
     "output_type": "execute_result"
    }
   ],
   "source": [
    "np.max(ruhe_lens)/(fs*60)"
   ]
  },
  {
   "cell_type": "code",
   "execution_count": null,
   "id": "409cdc7c-e51a-4325-86e6-a79bbb42f06d",
   "metadata": {},
   "outputs": [],
   "source": []
  }
 ],
 "metadata": {
  "kernelspec": {
   "display_name": "Python 3 (ipykernel)",
   "language": "python",
   "name": "python3"
  },
  "language_info": {
   "codemirror_mode": {
    "name": "ipython",
    "version": 3
   },
   "file_extension": ".py",
   "mimetype": "text/x-python",
   "name": "python",
   "nbconvert_exporter": "python",
   "pygments_lexer": "ipython3",
   "version": "3.9.7"
  }
 },
 "nbformat": 4,
 "nbformat_minor": 5
}
