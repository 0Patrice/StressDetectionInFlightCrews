{
 "cells": [
  {
   "cell_type": "markdown",
   "id": "0d41574c",
   "metadata": {},
   "source": [
    "# Data Matcher for individual Stress Profile and Flight Data\n",
    "\n",
    "## Import Required Libraries"
   ]
  },
  {
   "cell_type": "code",
   "execution_count": 52,
   "id": "4d148bc7-1154-4ff3-9a9b-695e4efc7e79",
   "metadata": {},
   "outputs": [],
   "source": [
    "import pandas as pd\n",
    "import numpy as np\n",
    "from scipy import interpolate\n",
    "import os\n",
    "from xml.dom import minidom\n",
    "\n",
    "from matplotlib import style\n",
    "from matplotlib.figure import Figure\n",
    "import matplotlib.pyplot as plt\n",
    "from matplotlib.widgets import Slider, Button, RadioButtons, RectangleSelector, RangeSlider, Cursor, SpanSelector\n",
    "import matplotlib.gridspec as gridspec\n",
    "from matplotlib.backends.backend_tkagg import FigureCanvasTkAgg, NavigationToolbar2Tk\n",
    "import matplotlib.animation as ani"
   ]
  },
  {
   "cell_type": "markdown",
   "id": "bd7c7f00",
   "metadata": {},
   "source": [
    "### Store SVG File Path"
   ]
  },
  {
   "cell_type": "code",
   "execution_count": 33,
   "id": "d714b151-b3a6-4a21-aa68-2d23d61558ab",
   "metadata": {},
   "outputs": [],
   "source": [
    "svgpathfile = \"/Data/Proband_09/Sc3/VP9_S3_nml.svg\""
   ]
  },
  {
   "cell_type": "markdown",
   "id": "8856398c",
   "metadata": {},
   "source": [
    "### Importing Data \n",
    "\n",
    "Use minidom to parse xml content from svg file"
   ]
  },
  {
   "cell_type": "code",
   "execution_count": 34,
   "id": "251b0a04-f408-4dea-9f38-c21e21ad713c",
   "metadata": {},
   "outputs": [],
   "source": [
    "xmldoc = minidom.parse(svgpathfile)"
   ]
  },
  {
   "cell_type": "markdown",
   "id": "42704b27",
   "metadata": {},
   "source": [
    "### Extract Data from SVG/XML file\n",
    "\n",
    "#### 1st Coordinate System\n",
    "\n",
    "get Fileheader of SVG File - it contains the view box\n",
    "\n",
    "-> equivalent to the coordinate system for the individual stress profile\n",
    "\n",
    "Extract X and Y max"
   ]
  },
  {
   "cell_type": "code",
   "execution_count": 77,
   "id": "b56b4f04-9b1a-4855-8374-4566fe32f4be",
   "metadata": {},
   "outputs": [
    {
     "name": "stdout",
     "output_type": "stream",
     "text": [
      "Y Max: 228.66\n",
      "X Max: 710.53\n"
     ]
    }
   ],
   "source": [
    "fileheader = xmldoc.getElementsByTagName('svg')\n",
    "\n",
    "viewbox = fileheader[0].attributes['viewBox'].value\n",
    "\n",
    "viewboxElems = viewbox.split(' ')\n",
    "\n",
    "y_max = float(viewboxElems[3])\n",
    "x_max = float(viewboxElems[2])\n",
    "\n",
    "print(f'Y Max: {y_max}')\n",
    "print(f'X Max: {x_max}')"
   ]
  },
  {
   "cell_type": "markdown",
   "id": "3a249ba8",
   "metadata": {},
   "source": [
    "#### individual Stress Profile\n",
    "\n",
    "Stress Profile is stored in a Polyline\n",
    "\n",
    "Search xmldoc's contenct for Elements called Polyline\n",
    "\n",
    "Output: pointsarray"
   ]
  },
  {
   "cell_type": "code",
   "execution_count": 102,
   "id": "60327408-d5e2-4405-825b-0b7d04c830e5",
   "metadata": {},
   "outputs": [],
   "source": [
    "itemlist = xmldoc.getElementsByTagName('polyline')\n",
    "\n",
    "pointList = itemlist[0].attributes['points'].value\n",
    "\n",
    "pointarry = pointList.split(' ')\n",
    "pointsarray = []\n",
    "for points in pointarry:\n",
    "    if points:\n",
    "        sepPoints = points.split(',')\n",
    "        pointsarray.append(list(map(float, sepPoints)))\n",
    "\n",
    "pointsarray = np.array(pointsarray)\n"
   ]
  },
  {
   "cell_type": "markdown",
   "id": "80af367e",
   "metadata": {},
   "source": [
    "#### Flight Path Marker\n",
    "FPM are marked as lines\n",
    "\n",
    "Same procedure is applied to get\n",
    "\n",
    "* Outer Marker\n",
    "* Middle Marker\n",
    "* Inner Marker\n",
    "\n",
    "For Scenario 5 markers are different: \n",
    "\n",
    "* (Start=Outer Marker)\n",
    "* Middle Marker\n",
    "* Inner Marker (Go Around)\n",
    "* Continous Marker 1 (ATC: Level Off 3000ft)\n",
    "* Continous Marker 2 (ATC: Climb 4000ft)\n",
    "* (End)"
   ]
  },
  {
   "cell_type": "code",
   "execution_count": 103,
   "id": "2cf40e69-39d1-4c23-9ed3-ca8b0cbc2f27",
   "metadata": {},
   "outputs": [
    {
     "name": "stdout",
     "output_type": "stream",
     "text": [
      "511.58\n",
      "284.21\n",
      "85.26\n",
      "[511.58, 284.21, 85.26]\n"
     ]
    }
   ],
   "source": [
    "linelist = xmldoc.getElementsByTagName('line')\n",
    "\n",
    "stressMarker = []\n",
    "\n",
    "for line in linelist:\n",
    "    value = line.attributes['x1'].value\n",
    "    stressMarker.append(float(value))\n",
    "    print(line.attributes['x1'].value)\n",
    "\n",
    "    \n",
    "print(stressMarker)"
   ]
  },
  {
   "cell_type": "markdown",
   "id": "e3e2debe",
   "metadata": {},
   "source": [
    "### Get AVES Flight Path Data\n",
    "\n",
    "Next step is to get the Marker times from AVES Flight Data\n",
    "\n"
   ]
  },
  {
   "cell_type": "code",
   "execution_count": 80,
   "id": "878335cb",
   "metadata": {},
   "outputs": [],
   "source": [
    "simpathfile = \"/Users/MacMaster3/Dropbox/Uni Stuttgart/Masterarbeit/Software/AVESData/Data/Proband_09/Sc3/A320ICDataRec_13Apr2022_083550_RUN5_P9S3.reca\"\n",
    "\n",
    "myFile = np.genfromtxt(simpathfile, delimiter=',', skip_header=126)\n",
    "\n",
    "# Load System Time\n",
    "sysTime = myFile[:, 0]\n",
    "\n",
    "# normalize System Time\n",
    "sysTime = np.array(sysTime)-sysTime[0]"
   ]
  },
  {
   "cell_type": "markdown",
   "id": "2f6a5914",
   "metadata": {},
   "source": [
    "### Seperate between Scenarios:\n",
    "\n",
    "Scenario 5 is different than the others hence needs to be considered seperately.\n",
    "\n",
    "**1 ft &nbsp; = &nbsp;0.3048 meter**\n",
    "\n",
    "* Scenario 1 - 4\n",
    "    - Outer Marker: &nbsp; &nbsp; @3800ft AGL = 1158.24m\n",
    "    - Middel Marker: &nbsp; &nbsp; @2500ft AGL = 762m\n",
    "    - Inner Marker: &nbsp; &nbsp; @1000ft AGL = 304.8m\n",
    "\n",
    "\n",
    "* Scenario 5:\n",
    "\n",
    "    - Start = Outer Marker: &nbsp; &nbsp; @3800ft AGL\n",
    "    - Middel Marker: &nbsp; &nbsp; @2500ft AGL\n",
    "    - Inner Marker: &nbsp; &nbsp; @ ~800ft AGL = ~243.84m\n",
    "    - Continous Marker 1:  &nbsp; &nbsp; @ATC Call\n",
    "    - Continous Marker 2:  &nbsp; &nbsp; @ATC Call\n",
    "    - End\n",
    "\n",
    "\n",
    "* Airport Stuttgart Ground Elevation\n",
    "    - 1181ft = 359.97m ~ 360m "
   ]
  },
  {
   "cell_type": "code",
   "execution_count": 104,
   "id": "83147dd9",
   "metadata": {},
   "outputs": [],
   "source": [
    "outermarker = 1158.24\n",
    "middlemarker = 762\n",
    "innermarker = 304.8\n",
    "\n",
    "edds_elevation = 360"
   ]
  },
  {
   "cell_type": "markdown",
   "id": "be1970f7",
   "metadata": {},
   "source": [
    "### Find Marker in AVES Data Flight Path\n",
    "\n",
    "Search AVES Data Array for positions where GPS Z (NED) is equal to marker heights\n"
   ]
  },
  {
   "cell_type": "code",
   "execution_count": 105,
   "id": "2e33547e",
   "metadata": {},
   "outputs": [
    {
     "name": "stdout",
     "output_type": "stream",
     "text": [
      "10760\n",
      "OM at 107.6 s\n",
      "17230\n",
      "MM at 172.3 s\n",
      "24890\n",
      "IM at 248.9 s\n"
     ]
    }
   ],
   "source": [
    "altitudeGPSz = myFile[:, 109]\n",
    "\n",
    "# outer\n",
    "outer_idx = (np.abs((-altitudeGPSz) - outermarker - edds_elevation)).argmin()\n",
    "print(outer_idx)\n",
    "\n",
    "om_time = round(sysTime[outer_idx],2)\n",
    "\n",
    "print(f\"OM at {om_time} s\")\n",
    "\n",
    "# middle\n",
    "middle_idx = (np.abs((-altitudeGPSz) - middlemarker - edds_elevation)).argmin()\n",
    "print(middle_idx)\n",
    "\n",
    "mm_time = round(sysTime[middle_idx],2)\n",
    "print(f\"MM at {mm_time} s\")\n",
    "\n",
    "# inner\n",
    "inner_idx = (np.abs((-altitudeGPSz) - innermarker - edds_elevation)).argmin()\n",
    "print(inner_idx)\n",
    "im_time = round(sysTime[inner_idx],2)\n",
    "print(f\"IM at {im_time} s\")\n"
   ]
  },
  {
   "cell_type": "markdown",
   "id": "160d59d2",
   "metadata": {},
   "source": [
    "### Get all Stress Profil Points between Marker\n",
    "\n",
    "Try to match the polyline points with the marker and seperate them accordingly\n"
   ]
  },
  {
   "cell_type": "code",
   "execution_count": 106,
   "id": "6ed1e5f6-8d20-498d-a843-c7cc08ee8715",
   "metadata": {},
   "outputs": [
    {
     "name": "stdout",
     "output_type": "stream",
     "text": [
      "S - OM [1.5000e-01 1.8285e+02]\n",
      "S - OM [ 14.24 183.84]\n",
      "S - OM [ 28.88 184.17]\n",
      "S - OM [ 42.86 184.61]\n",
      "S - OM [ 57.4  183.73]\n",
      "S - OM [ 71.38 184.94]\n",
      "OM - MM [ 85.8  183.73]\n",
      "OM - MM [ 99.89 180.97]\n",
      "OM - MM [114.09 179.65]\n",
      "OM - MM [128.95 178.77]\n",
      "OM - MM [143.05 178.88]\n",
      "OM - MM [156.92 178.99]\n",
      "OM - MM [171.23 178.66]\n",
      "OM - MM [185.43 177.34]\n",
      "OM - MM [199.74 176.79]\n",
      "OM - MM [213.95 175.47]\n",
      "OM - MM [227.82 173.16]\n",
      "OM - MM [242.02 170.74]\n",
      "OM - MM [256.66 167.43]\n",
      "OM - MM [270.64 165.56]\n",
      "MM - IM [285.39 161.38]\n",
      "MM - IM [299.05 156.42]\n",
      "MM - IM [313.47 149.82]\n",
      "MM - IM [327.67 142.44]\n",
      "MM - IM [341.87 133.63]\n",
      "MM - IM [356.4  123.07]\n",
      "MM - IM [370.5  113.82]\n",
      "MM - IM [384.15 105.34]\n",
      "MM - IM [398.24  96.53]\n",
      "MM - IM [412.55  88.28]\n",
      "MM - IM [426.97  77.05]\n",
      "MM - IM [441.61  66.81]\n",
      "MM - IM [456.26  58.44]\n",
      "MM - IM [469.69  52.28]\n",
      "MM - IM [484.    44.57]\n",
      "MM - IM [498.09  38.74]\n",
      "MM - IM [511.41  33.67]\n",
      "IM - RWY [526.16  31.8 ]\n",
      "IM - RWY [539.93  30.81]\n",
      "IM - RWY [554.9   30.59]\n",
      "IM - RWY [569.1   29.82]\n",
      "IM - RWY [582.75  29.27]\n",
      "IM - RWY [597.61  28.28]\n",
      "IM - RWY [611.16  28.72]\n",
      "IM - RWY [624.92  28.72]\n",
      "IM - RWY [639.12  28.83]\n",
      "IM - RWY [654.09  26.96]\n",
      "IM - RWY [668.07  25.64]\n",
      "IM - RWY [682.05  25.08]\n",
      "IM - RWY [696.26  24.86]\n",
      "IM - RWY [710.35  26.41]\n"
     ]
    }
   ],
   "source": [
    "for points in pointsarray:\n",
    "    if points[0]<stressMarker[2]:\n",
    "        print(f\"S - OM {points}\")\n",
    "    elif points[0]>stressMarker[2] and points[0]<stressMarker[1]:\n",
    "        print(f\"OM - MM {points}\")\n",
    "    elif points[0]>stressMarker[1] and points[0]<stressMarker[0]:\n",
    "        print(f\"MM - IM {points}\")\n",
    "    elif points[0]>stressMarker[0]:\n",
    "        print(f\"IM - RWY {points}\")"
   ]
  },
  {
   "cell_type": "markdown",
   "id": "f418f0e9",
   "metadata": {},
   "source": [
    "### Applying Math\n",
    "\n",
    "Transform the coordinate system for each marker section from SVG-Base to AVES Timebase\n"
   ]
  },
  {
   "cell_type": "code",
   "execution_count": 107,
   "id": "dcf904de-41be-4a8d-9850-7a3ce700d88c",
   "metadata": {},
   "outputs": [
    {
     "name": "stdout",
     "output_type": "stream",
     "text": [
      "S - OM [0.18930331 2.00341118]\n",
      "S - OM [17.97119399  1.96011546]\n",
      "S - OM [36.44719681  1.94568355]\n",
      "S - OM [54.09026507  1.926441  ]\n",
      "S - OM [72.44006568  1.96492609]\n",
      "S - OM [90.08313394  1.9120091 ]\n",
      "OM - MM [107.77561196   1.96492609]\n",
      "OM - MM [112.35778336   2.08562932]\n",
      "OM - MM [116.97572757   2.14335695]\n",
      "OM - MM [121.80830862   2.18184204]\n",
      "OM - MM [126.39373209   2.1770314 ]\n",
      "OM - MM [130.90435788   2.17222076]\n",
      "OM - MM [135.55807489   2.18665267]\n",
      "OM - MM [140.1760191   2.2443803]\n",
      "OM - MM [144.82973611   2.26843348]\n",
      "OM - MM [149.4509324    2.32616111]\n",
      "OM - MM [153.96155818   2.42718447]\n",
      "OM - MM [158.57950239   2.53301846]\n",
      "OM - MM [163.34053782   2.67777486]\n",
      "OM - MM [167.88693642   2.75955567]\n",
      "MM - IM [172.69753705   2.94235984]\n",
      "MM - IM [177.2995338    3.15927578]\n",
      "MM - IM [182.15757136   3.44791393]\n",
      "MM - IM [186.94149184   3.77066387]\n",
      "MM - IM [191.72541232   4.15595207]\n",
      "MM - IM [196.62050842   4.61777311]\n",
      "MM - IM [201.37073932   5.02230386]\n",
      "MM - IM [205.96936711   5.39316015]\n",
      "MM - IM [210.71622905   5.77844835]\n",
      "MM - IM [215.53720807   6.13924604]\n",
      "MM - IM [220.39524563   6.63036823]\n",
      "MM - IM [225.32740027   7.0781947 ]\n",
      "MM - IM [230.26292387   7.44424036]\n",
      "MM - IM [234.78743458   7.71363597]\n",
      "MM - IM [239.6084136    8.05081781]\n",
      "MM - IM [244.35527554   8.30578151]\n",
      "MM - IM [248.84272771   8.52750809]\n",
      "IM - RWY [255.79902589   8.6092889 ]\n",
      "IM - RWY [262.31477256   8.65258462]\n",
      "IM - RWY [269.39834029   8.6622059 ]\n",
      "IM - RWY [276.11755617   8.69588035]\n",
      "IM - RWY [282.57652073   8.71993353]\n",
      "IM - RWY [289.6080382    8.76322925]\n",
      "IM - RWY [296.01968434   8.74398671]\n",
      "IM - RWY [302.53069917   8.74398671]\n",
      "IM - RWY [309.24991505   8.73917607]\n",
      "IM - RWY [316.33348278   8.82095688]\n",
      "IM - RWY [322.94859814   8.87868451]\n",
      "IM - RWY [329.5637135    8.90317502]\n",
      "IM - RWY [336.28766122   8.91279629]\n",
      "IM - RWY [342.95482684   8.84501006]\n"
     ]
    }
   ],
   "source": [
    "pointsarray2 = pointsarray\n",
    "for points in pointsarray2:\n",
    "    if points[0] < stressMarker[2]:\n",
    "        \n",
    "        points[1] = ((points[1]/ -y_max + 1)*10)\n",
    "        \n",
    "        points[0] = (points[0]/stressMarker[2])*om_time\n",
    "        \n",
    "        print(f\"S - OM {points}\")\n",
    "        \n",
    "    elif points[0] > stressMarker[2] and points[0] < stressMarker[1]:\n",
    "        \n",
    "        points[1] = ((points[1]/ -y_max + 1)*10)\n",
    "        points[0] = ((points[0]-stressMarker[2])/(stressMarker[1]-stressMarker[2]))*(mm_time-om_time)+om_time\n",
    "        \n",
    "        print(f\"OM - MM {points}\")\n",
    "    elif points[0] > stressMarker[1] and points[0] < stressMarker[0]:\n",
    "        \n",
    "        points[1] = ((points[1]/ -y_max + 1)*10)\n",
    "        points[0] = ((points[0]-stressMarker[1])/(stressMarker[0]-stressMarker[1]))*(im_time-mm_time)+mm_time\n",
    "        \n",
    "        print(f\"MM - IM {points}\")\n",
    "        \n",
    "    elif points[0] > stressMarker[0]:\n",
    "        \n",
    "        points[1] = ((points[1]/ -y_max + 1)*10)\n",
    "        points[0] = ((points[0]-stressMarker[0])/(x_max-stressMarker[0]))*(sysTime[-1]-im_time)+im_time\n",
    "        \n",
    "        print(f\"IM - RWY {points}\")"
   ]
  },
  {
   "cell_type": "markdown",
   "id": "fac139d7",
   "metadata": {
    "tags": []
   },
   "source": [
    "### Export Data\n",
    "\n",
    "Transformed stressprofile is exported in CSV file with\n",
    "\n",
    "[x: simulation run time     y: perceived Stress {0,10}]"
   ]
  },
  {
   "cell_type": "code",
   "execution_count": 12,
   "id": "5ffef9a4-f537-4634-b1eb-1e17bdeffcdd",
   "metadata": {},
   "outputs": [],
   "source": [
    "np.savetxt(\"stressprofileVP1Sc1SimTime.csv\", pointsarray2, delimiter=\",\")"
   ]
  },
  {
   "cell_type": "markdown",
   "id": "3db0ea85-c6af-4942-be21-a5a6c086368f",
   "metadata": {},
   "source": [
    "### Normalize Data\n",
    "\n",
    "Transform Simulation Run Time to be between [{0,1}]"
   ]
  },
  {
   "cell_type": "code",
   "execution_count": 108,
   "id": "adbaaaa6-84e9-4358-9968-9436c9b9d062",
   "metadata": {},
   "outputs": [
    {
     "name": "stdout",
     "output_type": "stream",
     "text": [
      "[[0.         2.00341118]\n",
      " [0.05187771 1.96011546]\n",
      " [0.10578046 1.94568355]\n",
      " [0.15725316 1.926441  ]\n",
      " [0.21078772 1.96492609]\n",
      " [0.26226042 1.9120091 ]\n",
      " [0.31387728 1.96492609]\n",
      " [0.32724551 2.08562932]\n",
      " [0.34071812 2.14335695]\n",
      " [0.35481691 2.18184204]\n",
      " [0.36819464 2.1770314 ]\n",
      " [0.38135415 2.17222076]\n",
      " [0.39493112 2.18665267]\n",
      " [0.40840372 2.2443803 ]\n",
      " [0.42198069 2.26843348]\n",
      " [0.43546278 2.32616111]\n",
      " [0.44862229 2.42718447]\n",
      " [0.4620949  2.53301846]\n",
      " [0.47598496 2.67777486]\n",
      " [0.48924884 2.75955567]\n",
      " [0.5032835  2.94235984]\n",
      " [0.51670958 3.15927578]\n",
      " [0.53088265 3.44791393]\n",
      " [0.54483948 3.77066387]\n",
      " [0.55879631 4.15595207]\n",
      " [0.57307749 4.61777311]\n",
      " [0.58693603 5.02230386]\n",
      " [0.60035228 5.39316015]\n",
      " [0.614201   5.77844835]\n",
      " [0.62826594 6.13924604]\n",
      " [0.64243901 6.63036823]\n",
      " [0.6568283  7.0781947 ]\n",
      " [0.67122743 7.44424036]\n",
      " [0.68442744 7.71363597]\n",
      " [0.69849239 8.05081781]\n",
      " [0.71234111 8.30578151]\n",
      " [0.72543301 8.52750809]\n",
      " [0.74572763 8.6092889 ]\n",
      " [0.76473697 8.65258462]\n",
      " [0.7854029  8.6622059 ]\n",
      " [0.80500585 8.69588035]\n",
      " [0.82384954 8.71993353]\n",
      " [0.84436361 8.76322925]\n",
      " [0.86306924 8.74398671]\n",
      " [0.88206478 8.74398671]\n",
      " [0.90166773 8.73917607]\n",
      " [0.92233366 8.82095688]\n",
      " [0.9416329  8.87868451]\n",
      " [0.96093215 8.90317502]\n",
      " [0.9805489  8.91279629]\n",
      " [1.         8.84501006]]\n"
     ]
    }
   ],
   "source": [
    "pointsarray2[:,0]=pointsarray2[:,0]-pointsarray2[0,0] #Bring Base to 0\n",
    "\n",
    "pointsarray2[:,0]=pointsarray2[:,0]/pointsarray2[-1,0] #Scale down to length 1\n",
    "\n",
    "print(pointsarray2)"
   ]
  },
  {
   "cell_type": "code",
   "execution_count": 109,
   "id": "42cd2f30-65ca-4c36-9fbc-fbc09b33539f",
   "metadata": {},
   "outputs": [
    {
     "name": "stdout",
     "output_type": "stream",
     "text": [
      "[[0.     2.0034]\n",
      " [0.0519 1.9601]\n",
      " [0.1058 1.9457]\n",
      " [0.1573 1.9264]\n",
      " [0.2108 1.9649]\n",
      " [0.2623 1.912 ]\n",
      " [0.3139 1.9649]\n",
      " [0.3272 2.0856]\n",
      " [0.3407 2.1434]\n",
      " [0.3548 2.1818]\n",
      " [0.3682 2.177 ]\n",
      " [0.3814 2.1722]\n",
      " [0.3949 2.1867]\n",
      " [0.4084 2.2444]\n",
      " [0.422  2.2684]\n",
      " [0.4355 2.3262]\n",
      " [0.4486 2.4272]\n",
      " [0.4621 2.533 ]\n",
      " [0.476  2.6778]\n",
      " [0.4892 2.7596]\n",
      " [0.5033 2.9424]\n",
      " [0.5167 3.1593]\n",
      " [0.5309 3.4479]\n",
      " [0.5448 3.7707]\n",
      " [0.5588 4.156 ]\n",
      " [0.5731 4.6178]\n",
      " [0.5869 5.0223]\n",
      " [0.6004 5.3932]\n",
      " [0.6142 5.7784]\n",
      " [0.6283 6.1392]\n",
      " [0.6424 6.6304]\n",
      " [0.6568 7.0782]\n",
      " [0.6712 7.4442]\n",
      " [0.6844 7.7136]\n",
      " [0.6985 8.0508]\n",
      " [0.7123 8.3058]\n",
      " [0.7254 8.5275]\n",
      " [0.7457 8.6093]\n",
      " [0.7647 8.6526]\n",
      " [0.7854 8.6622]\n",
      " [0.805  8.6959]\n",
      " [0.8238 8.7199]\n",
      " [0.8444 8.7632]\n",
      " [0.8631 8.744 ]\n",
      " [0.8821 8.744 ]\n",
      " [0.9017 8.7392]\n",
      " [0.9223 8.821 ]\n",
      " [0.9416 8.8787]\n",
      " [0.9609 8.9032]\n",
      " [0.9805 8.9128]\n",
      " [1.     8.845 ]]\n"
     ]
    }
   ],
   "source": [
    "pointsarray2=np.around(pointsarray2,decimals=4)\n",
    "print(pointsarray2)"
   ]
  },
  {
   "cell_type": "code",
   "execution_count": 110,
   "id": "e5bc0ae9-5742-49f2-b610-3b4190379830",
   "metadata": {},
   "outputs": [
    {
     "name": "stdout",
     "output_type": "stream",
     "text": [
      "[[  0.       2.0034]\n",
      " [ 16.5561   1.9601]\n",
      " [ 33.7502   1.9457]\n",
      " [ 50.1787   1.9264]\n",
      " [ 67.2452   1.9649]\n",
      " [ 83.6737   1.912 ]\n",
      " [100.1341   1.9649]\n",
      " [104.3768   2.0856]\n",
      " [108.6833   2.1434]\n",
      " [113.1812   2.1818]\n",
      " [117.4558   2.177 ]\n",
      " [121.6666   2.1722]\n",
      " [125.9731   2.1867]\n",
      " [130.2796   2.2444]\n",
      " [134.618    2.2684]\n",
      " [138.9245   2.3262]\n",
      " [143.1034   2.4272]\n",
      " [147.4099   2.533 ]\n",
      " [151.844    2.6778]\n",
      " [156.0548   2.7596]\n",
      " [160.5527   2.9424]\n",
      " [164.8273   3.1593]\n",
      " [169.3571   3.4479]\n",
      " [173.7912   3.7707]\n",
      " [178.2572   4.156 ]\n",
      " [182.8189   4.6178]\n",
      " [187.2211   5.0223]\n",
      " [191.5276   5.3932]\n",
      " [195.9298   5.7784]\n",
      " [200.4277   6.1392]\n",
      " [204.9256   6.6304]\n",
      " [209.5192   7.0782]\n",
      " [214.1128   7.4442]\n",
      " [218.3236   7.7136]\n",
      " [222.8215   8.0508]\n",
      " [227.2237   8.3058]\n",
      " [231.4026   8.5275]\n",
      " [237.8783   8.6093]\n",
      " [243.9393   8.6526]\n",
      " [250.5426   8.6622]\n",
      " [256.795    8.6959]\n",
      " [262.7922   8.7199]\n",
      " [269.3636   8.7632]\n",
      " [275.3289   8.744 ]\n",
      " [281.3899   8.744 ]\n",
      " [287.6423   8.7392]\n",
      " [294.2137   8.821 ]\n",
      " [300.3704   8.8787]\n",
      " [306.5271   8.9032]\n",
      " [312.7795   8.9128]\n",
      " [319.       8.845 ]]\n"
     ]
    }
   ],
   "source": [
    "piRunTime = 319\n",
    "\n",
    "pointsarray2[:,0]=pointsarray2[:,0]*piRunTime\n",
    "print(pointsarray2)"
   ]
  },
  {
   "cell_type": "code",
   "execution_count": 113,
   "id": "95c25a61-f210-41e4-a43a-36342d03ba79",
   "metadata": {},
   "outputs": [
    {
     "name": "stdout",
     "output_type": "stream",
     "text": [
      "[0.00000000e+00 3.33336816e-03 6.66673633e-03 ... 3.18993333e+02\n",
      " 3.18996667e+02 3.19000000e+02]\n"
     ]
    }
   ],
   "source": [
    "piRunTime = 319\n",
    "piFs=300\n",
    "stressPiTimes = np.linspace(0,piRunTime,piRunTime*piFs)\n",
    "\n",
    "print(stressPiTimes)"
   ]
  },
  {
   "cell_type": "code",
   "execution_count": 111,
   "id": "641990ea-53ff-4393-8303-e6181606295d",
   "metadata": {},
   "outputs": [],
   "source": [
    "f = interpolate.interp1d(pointsarray2[:,0],pointsarray2[:,1])"
   ]
  },
  {
   "cell_type": "code",
   "execution_count": 115,
   "id": "792966b5-20aa-4720-b7ad-8d834e551571",
   "metadata": {},
   "outputs": [
    {
     "name": "stdout",
     "output_type": "stream",
     "text": [
      "[2.0034     2.00339128 2.00338256 ... 8.84507266 8.84503633 8.845     ]\n"
     ]
    }
   ],
   "source": [
    "y_new = f(stressPiTimes)\n",
    "print(y_new)"
   ]
  },
  {
   "cell_type": "code",
   "execution_count": 117,
   "id": "cff48b05-a0ec-477a-9646-ac05b0c737be",
   "metadata": {},
   "outputs": [
    {
     "name": "stdout",
     "output_type": "stream",
     "text": [
      "95700\n",
      "95700\n"
     ]
    }
   ],
   "source": [
    "print(y_new.size)\n",
    "print(stressPiTimes.size)"
   ]
  },
  {
   "cell_type": "code",
   "execution_count": 118,
   "id": "2d59a0d7-5cf5-4045-9aba-efdaec041b87",
   "metadata": {},
   "outputs": [
    {
     "data": {
      "text/plain": [
       "[<matplotlib.lines.Line2D at 0x7fcccaf95b80>]"
      ]
     },
     "execution_count": 118,
     "metadata": {},
     "output_type": "execute_result"
    },
    {
     "data": {
      "image/png": "[encoded data removed]",
      "text/plain": [
       "<Figure size 432x288 with 1 Axes>"
      ]
     },
     "metadata": {
      "needs_background": "light"
     },
     "output_type": "display_data"
    }
   ],
   "source": [
    "plt.plot(stressPiTimes, y_new, 'o')"
   ]
  },
  {
   "cell_type": "code",
   "execution_count": null,
   "id": "02c0218b-58a3-413c-b974-5a1df16f9f36",
   "metadata": {},
   "outputs": [],
   "source": []
  }
 ],
 "metadata": {
  "kernelspec": {
   "display_name": "Python 3 (ipykernel)",
   "language": "python",
   "name": "python3"
  },
  "language_info": {
   "codemirror_mode": {
    "name": "ipython",
    "version": 3
   },
   "file_extension": ".py",
   "mimetype": "text/x-python",
   "name": "python",
   "nbconvert_exporter": "python",
   "pygments_lexer": "ipython3",
   "version": "3.9.7"
  }
 },
 "nbformat": 4,
 "nbformat_minor": 5
}
