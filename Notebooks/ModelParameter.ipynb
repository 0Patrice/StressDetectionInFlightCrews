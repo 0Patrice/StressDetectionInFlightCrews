{
 "cells": [
  {
   "cell_type": "code",
   "execution_count": 39,
   "id": "f7140a55-2ad5-4897-bc76-5271f57a445d",
   "metadata": {},
   "outputs": [],
   "source": [
    "from __future__ import print_function\n",
    "import argparse\n",
    "import shutil\n",
    "\n",
    "import matplotlib.pyplot as plt\n",
    "import torch\n",
    "import torch.nn as nn\n",
    "import torch.optim as optim\n",
    "from torchsummary import summary\n",
    "from torchvision import models\n",
    "\n",
    "import numpy as np\n",
    "from numpy import mean, sqrt, square, arange\n",
    "import pandas as pd\n",
    "\n",
    "import logging\n",
    "import csv\n",
    "\n",
    "import os\n",
    "from os.path import exists\n",
    "import datetime\n",
    "import time\n",
    "\n",
    "import shutil\n",
    "\n",
    "\n",
    "from wfdb import processing\n"
   ]
  },
  {
   "cell_type": "code",
   "execution_count": 16,
   "id": "671cd712-eb9c-4829-b80c-25550cc36920",
   "metadata": {},
   "outputs": [],
   "source": [
    "class Sequence(nn.Module):\n",
    "\n",
    "    def __init__(self):\n",
    "        super(Sequence, self).__init__()\n",
    "        input_size = 1\n",
    "        self.input_size = input_size\n",
    "\n",
    "        hidden_layers1 = 256\n",
    "        hidden_layers2 = 128\n",
    "        hidden_layers3 = 64\n",
    "        hidden_layers4 = 32\n",
    "        hidden_layers5 = 16\n",
    "\n",
    "        self.hidden_layers1 = hidden_layers1\n",
    "        self.hidden_layers2 = hidden_layers2\n",
    "        self.hidden_layers3 = hidden_layers3\n",
    "        self.hidden_layers4 = hidden_layers4\n",
    "        self.hidden_layers5 = hidden_layers5\n",
    "\n",
    "        self.lstm1 = nn.LSTMCell(self.input_size, self.hidden_layers1)\n",
    "        self.lstm2 = nn.LSTMCell(self.hidden_layers1, self.hidden_layers2)\n",
    "        self.lstm3 = nn.LSTMCell(self.hidden_layers2, self.hidden_layers3)\n",
    "        self.lstm4 = nn.LSTMCell(self.hidden_layers3, self.hidden_layers4)\n",
    "        self.lstm5 = nn.LSTMCell(self.hidden_layers4, self.hidden_layers5)\n",
    "\n",
    "        self.linear = nn.Linear(self.hidden_layers5, 1)\n",
    "\n",
    "    def forward(self, inputData):\n",
    "        outputs = []\n",
    "        h_t = torch.zeros(inputData.size(0), self.hidden_layers1, dtype=torch.double)\n",
    "        c_t = torch.zeros(inputData.size(0), self.hidden_layers1, dtype=torch.double)\n",
    "\n",
    "        h_t2 = torch.zeros(inputData.size(0), self.hidden_layers2, dtype=torch.double)\n",
    "        c_t2 = torch.zeros(inputData.size(0), self.hidden_layers2, dtype=torch.double)\n",
    "\n",
    "        h_t3 = torch.zeros(inputData.size(0), self.hidden_layers3, dtype=torch.double)\n",
    "        c_t3 = torch.zeros(inputData.size(0), self.hidden_layers3, dtype=torch.double)\n",
    "\n",
    "        h_t4 = torch.zeros(inputData.size(0), self.hidden_layers4, dtype=torch.double)\n",
    "        c_t4 = torch.zeros(inputData.size(0), self.hidden_layers4, dtype=torch.double)\n",
    "\n",
    "        h_t5 = torch.zeros(inputData.size(0), self.hidden_layers5, dtype=torch.double)\n",
    "        c_t5 = torch.zeros(inputData.size(0), self.hidden_layers5, dtype=torch.double)\n",
    "        \n",
    "        for input_t in inputData.split(1, dim=1):\n",
    "\n",
    "            h_t, c_t = self.lstm1(input_t, (h_t, c_t))\n",
    "            h_t2, c_t2 = self.lstm2(h_t, (h_t2, c_t2))\n",
    "            h_t3, c_t3 = self.lstm3(h_t2, (h_t3, c_t3))\n",
    "            h_t4, c_t4 = self.lstm4(h_t3, (h_t4, c_t4))\n",
    "            h_t5, c_t5 = self.lstm5(h_t4, (h_t5, c_t5))\n",
    "\n",
    "            output = self.linear(h_t5)\n",
    "            outputs += [output]\n",
    "\n",
    "        return torch.cat(outputs, dim=1)"
   ]
  },
  {
   "cell_type": "code",
   "execution_count": 17,
   "id": "f7f1199b-2f6b-48a2-9da9-e3c10b7fb42c",
   "metadata": {},
   "outputs": [],
   "source": [
    "model_path = \"../../LSTM/Losses/SPECGmodelNEO_i100.pt\""
   ]
  },
  {
   "cell_type": "code",
   "execution_count": 20,
   "id": "c401795f-2411-47f9-b339-356b2a373110",
   "metadata": {},
   "outputs": [
    {
     "data": {
      "text/plain": [
       "Sequence(\n",
       "  (lstm1): LSTMCell(1, 256)\n",
       "  (lstm2): LSTMCell(256, 128)\n",
       "  (lstm3): LSTMCell(128, 64)\n",
       "  (lstm4): LSTMCell(64, 32)\n",
       "  (lstm5): LSTMCell(32, 16)\n",
       "  (linear): Linear(in_features=16, out_features=1, bias=True)\n",
       ")"
      ]
     },
     "execution_count": 20,
     "metadata": {},
     "output_type": "execute_result"
    }
   ],
   "source": [
    "seq = Sequence()\n",
    "seq.load_state_dict(torch.load(model_path, map_location=torch.device('cpu')))\n",
    "seq.eval()"
   ]
  },
  {
   "cell_type": "code",
   "execution_count": 58,
   "id": "8ff28eee-2e53-40dc-aee6-0ae2d2b0e6a9",
   "metadata": {},
   "outputs": [],
   "source": [
    "from prettytable import PrettyTable\n",
    "\n",
    "def count_parameters(model):\n",
    "    table = PrettyTable([\"Modules\", \"Parameters\"])\n",
    "    total_parameters = 0\n",
    "    for name, parameter in model.named_parameters():\n",
    "        if not parameter.requires_grad: continue\n",
    "        params = parameter.numel()\n",
    "        table.add_row([name, params])\n",
    "        total_parameters+=params\n",
    "    print(table)\n",
    "    print(f\"Total Trainable Parameters: {total_parameters}\")\n",
    "    return total_parameters"
   ]
  },
  {
   "cell_type": "code",
   "execution_count": 59,
   "id": "95f3add9-4a94-4079-ab79-442e67efc054",
   "metadata": {},
   "outputs": [
    {
     "name": "stdout",
     "output_type": "stream",
     "text": [
      "+-----------------+------------+\n",
      "|     Modules     | Parameters |\n",
      "+-----------------+------------+\n",
      "| lstm1.weight_ih |    1024    |\n",
      "| lstm1.weight_hh |   262144   |\n",
      "|  lstm1.bias_ih  |    1024    |\n",
      "|  lstm1.bias_hh  |    1024    |\n",
      "| lstm2.weight_ih |   131072   |\n",
      "| lstm2.weight_hh |   65536    |\n",
      "|  lstm2.bias_ih  |    512     |\n",
      "|  lstm2.bias_hh  |    512     |\n",
      "| lstm3.weight_ih |   32768    |\n",
      "| lstm3.weight_hh |   16384    |\n",
      "|  lstm3.bias_ih  |    256     |\n",
      "|  lstm3.bias_hh  |    256     |\n",
      "| lstm4.weight_ih |    8192    |\n",
      "| lstm4.weight_hh |    4096    |\n",
      "|  lstm4.bias_ih  |    128     |\n",
      "|  lstm4.bias_hh  |    128     |\n",
      "| lstm5.weight_ih |    2048    |\n",
      "| lstm5.weight_hh |    1024    |\n",
      "|  lstm5.bias_ih  |     64     |\n",
      "|  lstm5.bias_hh  |     64     |\n",
      "|  linear.weight  |     16     |\n",
      "|   linear.bias   |     1      |\n",
      "+-----------------+------------+\n",
      "Total Trainable Parameters: 528273\n"
     ]
    },
    {
     "data": {
      "text/plain": [
       "528273"
      ]
     },
     "execution_count": 59,
     "metadata": {},
     "output_type": "execute_result"
    }
   ],
   "source": [
    "count_parameters(seq)"
   ]
  },
  {
   "cell_type": "code",
   "execution_count": null,
   "id": "25dc5011-87e8-4353-b7c8-117a84cea770",
   "metadata": {},
   "outputs": [],
   "source": []
  }
 ],
 "metadata": {
  "kernelspec": {
   "display_name": "Python 3 (ipykernel)",
   "language": "python",
   "name": "python3"
  },
  "language_info": {
   "codemirror_mode": {
    "name": "ipython",
    "version": 3
   },
   "file_extension": ".py",
   "mimetype": "text/x-python",
   "name": "python",
   "nbconvert_exporter": "python",
   "pygments_lexer": "ipython3",
   "version": "3.9.7"
  }
 },
 "nbformat": 4,
 "nbformat_minor": 5
}
